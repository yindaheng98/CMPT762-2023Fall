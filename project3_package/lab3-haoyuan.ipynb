{
  "cells": [
    {
      "cell_type": "markdown",
      "metadata": {
        "id": "QHnVupBBn9eR"
      },
      "source": [
        "\n",
        "# Assignment 3\n",
        "\n",
        "This is a template notebook for Assignment 3.\n"
      ]
    },
    {
      "cell_type": "markdown",
      "metadata": {
        "id": "vM54r6jlKTII"
      },
      "source": [
        "## Install dependencies and initialization"
      ]
    },
    {
      "cell_type": "code",
      "execution_count": null,
      "metadata": {
        "id": "9_FzH13EjseR"
      },
      "outputs": [],
      "source": [
        "# # The next 8 lines added to be compatible with version changes (2022/10/13).\n",
        "# # change cuda to 11.1\n",
        "# import os\n",
        "# p = os.getenv('PATH')\n",
        "# ld = os.getenv('LD_LIBRARY_PATH')\n",
        "# os.environ['PATH'] = f\"/usr/local/cuda-11.1/bin:{p}\"\n",
        "# os.environ['LD_LIBRARY_PATH'] = f\"/usr/local/cuda-11.1/lib64:{ld}\"\n",
        "# # change pytorch to 1.9.0 compiled with cuda 11.1\n",
        "# !pip install torch==1.9.0+cu111 torchvision==0.10.0+cu111 -f https://download.pytorch.org/whl/torch_stable.html\n",
        "\n",
        "\n",
        "# # install dependencies:\n",
        "# !pip install pyyaml==5.1 pycocotools>=2.0.1\n",
        "# # !pip install detectron2 -f https://dl.fbaipublicfiles.com/detectron2/wheels/cu101/torch1.6/index.html\n",
        "# !pip install detectron2 -f https://dl.fbaipublicfiles.com/detectron2/wheels/cu111/torch1.9/index.html"
      ]
    },
    {
      "cell_type": "code",
      "execution_count": null,
      "metadata": {
        "id": "dqAUb5Y12qXt"
      },
      "outputs": [],
      "source": [
        "# !pwd # shows current directory\n",
        "# !ls  # shows all files in this directory\n",
        "# !nvidia-smi # shows the specs and the current status of the allocated GPU"
      ]
    },
    {
      "cell_type": "code",
      "execution_count": null,
      "metadata": {
        "id": "b-i4hmGYk1dL"
      },
      "outputs": [],
      "source": [
        "# import some common libraries\n",
        "# from google.colab.patches import cv2_imshow\n",
        "from sklearn.metrics import jaccard_score\n",
        "from PIL import Image, ImageDraw\n",
        "from tqdm.notebook import tqdm\n",
        "import pandas as pd\n",
        "import numpy as np\n",
        "import datetime\n",
        "import random\n",
        "import json\n",
        "import cv2\n",
        "import csv\n",
        "import os\n",
        "\n",
        "os.environ['CUDA_VISIBLE_DEVICES'] = '1'\n",
        "\n",
        "# import some common pytorch utilities\n",
        "from torch.utils.data import Dataset, DataLoader\n",
        "import torchvision.transforms as transforms\n",
        "from torch.autograd import Variable\n",
        "import torch.nn.functional as F\n",
        "import torch.nn as nn\n",
        "import torch\n",
        "\n",
        "# import some common detectron2 utilities\n",
        "import detectron2\n",
        "from detectron2 import model_zoo\n",
        "from detectron2.config import get_cfg\n",
        "from detectron2.structures import BoxMode\n",
        "from detectron2.engine import DefaultTrainer\n",
        "from detectron2.engine import DefaultPredictor\n",
        "from detectron2.utils.logger import setup_logger\n",
        "from detectron2.utils.visualizer import ColorMode\n",
        "from detectron2.utils.visualizer import Visualizer\n",
        "from detectron2.data import build_detection_test_loader\n",
        "from detectron2.data import MetadataCatalog, DatasetCatalog\n",
        "from detectron2.evaluation import COCOEvaluator, inference_on_dataset\n",
        "setup_logger()\n",
        "\n",
        "import imagesize\n",
        "from glob import glob \n",
        "import matplotlib.pyplot as plt"
      ]
    },
    {
      "cell_type": "code",
      "execution_count": null,
      "metadata": {
        "id": "tUA_j6AF1L5Y"
      },
      "outputs": [],
      "source": [
        "# Make sure that GPU is available for your notebook.\n",
        "# Otherwise, you need to update the settungs in Runtime -> Change runtime type -> Hardware accelerator\n",
        "torch.cuda.is_available()"
      ]
    },
    {
      "cell_type": "code",
      "execution_count": null,
      "metadata": {
        "id": "ZyAvNCJMmvFF"
      },
      "outputs": [],
      "source": [
        "# # You need to mount your google drive in order to load the data:\n",
        "# from google.colab import drive\n",
        "# drive.mount('/content/drive')\n",
        "# # Put all the corresponding data files in a data folder and put the data folder in a same directory with this notebook.\n",
        "# # Also create an output directory for your files such as the trained models and the output images."
      ]
    },
    {
      "cell_type": "code",
      "execution_count": null,
      "metadata": {
        "id": "A_Di_fgL4HSv"
      },
      "outputs": [],
      "source": [
        "# Define the location of current directory, which should contain data/train, data/test, and data/train.json.\n",
        "# TODO: approx 1 line\n",
        "BASE_DIR = '.'\n",
        "OUTPUT_DIR = '{}/output'.format(BASE_DIR)\n",
        "os.makedirs(OUTPUT_DIR, exist_ok=True)\n",
        "\n",
        "NUM_OF_WORKER = 8\n",
        "IMAGE_DIR = \"{}/images\".format(BASE_DIR)\n",
        "os.makedirs(IMAGE_DIR, exist_ok=True)\n",
        "\n",
        "COCO_EVALUATOR_OUTPUT = \"{}/coco_output\".format(BASE_DIR)\n",
        "os.makedirs(COCO_EVALUATOR_OUTPUT, exist_ok=True)"
      ]
    },
    {
      "cell_type": "markdown",
      "metadata": {
        "id": "Vk4gID50K03a"
      },
      "source": [
        "## Part 1: Object Detection"
      ]
    },
    {
      "cell_type": "markdown",
      "metadata": {
        "id": "xRV-KFJzlur4"
      },
      "source": [
        "### Data Loader"
      ]
    },
    {
      "cell_type": "code",
      "execution_count": null,
      "metadata": {
        "id": "dq9GY37ml1kr"
      },
      "outputs": [],
      "source": [
        "'''\n",
        "# This function should return a list of data samples in which each sample is a dictionary.\n",
        "# Make sure to select the correct bbox_mode for the data\n",
        "# For the test data, you only have access to the images, therefore, the annotations should be empty.\n",
        "# Other values could be obtained from the image files.\n",
        "# TODO: approx 35 lines\n",
        "'''\n",
        "\n",
        "TEST_DATA_RATIO = 0.8\n",
        "\n",
        "def get_all_images_name(json_data):\n",
        "  return list(set([x['file_name'] for x in json_data]))\n",
        "\n",
        "def get_detection_test_data():\n",
        "  dataset = []\n",
        "  test_imgs = glob(BASE_DIR + \"/data/test/*.png\")\n",
        "  \n",
        "  for idx, img in enumerate(test_imgs):\n",
        "    record = {}\n",
        "    # Using cv2 to read size is too slow\n",
        "    width, height = imagesize.get(img)\n",
        "    \n",
        "    record['file_name'] = img\n",
        "    record['image_id'] = idx\n",
        "    record['height'] = height\n",
        "    record['width'] = width\n",
        "    record['annotations'] = []\n",
        "    \n",
        "    dataset.append(record)\n",
        "  \n",
        "  return dataset\n",
        "\n",
        "def get_detection_data(set_name):\n",
        "  if set_name not in [\"train\", \"val\", \"test\", \"all_train\"]:\n",
        "    assert(\"Set name unknown\")\n",
        "    \n",
        "  if set_name == \"test\":\n",
        "    return get_detection_test_data()\n",
        "      \n",
        "  dataset = []\n",
        "  \n",
        "  with open(BASE_DIR + \"/data/train.json\") as f:\n",
        "    imgs_anns = json.load(f)\n",
        "    imgs_anns = sorted(imgs_anns, key=lambda x: x[\"file_name\"])\n",
        "    \n",
        "  np.random.seed(762)\n",
        "  imgs_name = get_all_images_name(imgs_anns)\n",
        "  test_imgs = np.random.choice(imgs_name, int(len(imgs_name) * TEST_DATA_RATIO), replace=False)\n",
        "  val_imgs = [x for x in imgs_name if x not in test_imgs]\n",
        "    \n",
        "  idx = 0\n",
        "  while idx < len(imgs_anns):\n",
        "    record = {}\n",
        "    \n",
        "    if set_name == \"train\":\n",
        "      if imgs_anns[idx][\"file_name\"] not in test_imgs:\n",
        "        idx += 1\n",
        "        continue\n",
        "    elif set_name == \"val\":\n",
        "      if imgs_anns[idx][\"file_name\"] not in val_imgs:\n",
        "        idx += 1\n",
        "        continue\n",
        "    else:\n",
        "      # Load all train data for pred.csv generation\n",
        "      pass\n",
        "\n",
        "    # Using cv2 to read size is too slow\n",
        "    width, height = imagesize.get(BASE_DIR + \"/data/train/\" + imgs_anns[idx][\"file_name\"])\n",
        "    \n",
        "    record['file_name'] = BASE_DIR + \"/data/train/\" + imgs_anns[idx][\"file_name\"]\n",
        "    record['image_id'] = imgs_anns[idx][\"image_id\"]\n",
        "    record['height'] = height\n",
        "    record['width'] = width\n",
        "    record['annotations'] = []\n",
        "  \n",
        "    while idx < len(imgs_anns) and record['file_name'].split('/')[-1] == imgs_anns[idx][\"file_name\"]:\n",
        "      record['annotations'].append({\n",
        "        \"bbox\": imgs_anns[idx]['bbox'],\n",
        "        \"bbox_mode\": BoxMode.XYWH_ABS,\n",
        "        \"segmentation\": imgs_anns[idx][\"segmentation\"],\n",
        "        \"category_id\": 0\n",
        "      })\n",
        "      idx += 1\n",
        "      \n",
        "    dataset.append(record)\n",
        "    \n",
        "  return dataset"
      ]
    },
    {
      "cell_type": "code",
      "execution_count": null,
      "metadata": {
        "id": "xCH-2mWxDVVu"
      },
      "outputs": [],
      "source": [
        "'''\n",
        "# Remember to add your dataset to DatasetCatalog and MetadataCatalog\n",
        "# Consdier \"data_detection_train\" and \"data_detection_test\" for registration\n",
        "# You can also add an optional \"data_detection_val\" for your validation by spliting the training data\n",
        "# TODO: approx 5 lines\n",
        "'''\n",
        "\n",
        "for d in [\"train\", \"val\", \"test\", \"all_train\"]:\n",
        "  DatasetCatalog.register(\"data_detection_\" + d, lambda d=d: get_detection_data(d))\n",
        "  MetadataCatalog.get(\"data_detection_\" + d).set(thing_classes=[\"plane\"])"
      ]
    },
    {
      "cell_type": "code",
      "execution_count": null,
      "metadata": {
        "id": "qNSdXCL_DVAz"
      },
      "outputs": [],
      "source": [
        "# '''\n",
        "# # Visualize some samples using Visualizer to make sure that the function works correctly\n",
        "# # TODO: approx 5 lines\n",
        "# '''\n",
        "\n",
        "# dataset_dicts = get_detection_data(\"train\")\n",
        "# for idx, d in enumerate(random.sample(dataset_dicts, 3)):\n",
        "#   img = cv2.imread(d[\"file_name\"])\n",
        "#   visualizer = Visualizer(img[:, :, ::-1], metadata=MetadataCatalog.get(\"data_detection_train\"), scale=0.5)\n",
        "#   out = visualizer.draw_dataset_dict(d)\n",
        "#   cv2.imwrite('{}/{}.png'.format(IMAGE_DIR, idx), out.get_image()[:, :, ::-1])"
      ]
    },
    {
      "cell_type": "markdown",
      "metadata": {
        "id": "uM1thbN-ntjI"
      },
      "source": [
        "### Set Configs"
      ]
    },
    {
      "cell_type": "code",
      "execution_count": null,
      "metadata": {
        "id": "HUjkwRsOn1O0"
      },
      "outputs": [],
      "source": [
        "'''\n",
        "# Set the configs for the detection part in here.\n",
        "# TODO: approx 15 lines\n",
        "'''\n",
        "cfg = get_cfg()\n",
        "cfg.OUTPUT_DIR = OUTPUT_DIR\n",
        "cfg.merge_from_file(model_zoo.get_config_file(\"COCO-Detection/faster_rcnn_R_101_FPN_3x.yaml\"))\n",
        "cfg.DATASETS.TRAIN = (\"data_detection_train\",)\n",
        "cfg.DATALOADER.NUM_WORKERS = NUM_OF_WORKER\n",
        "cfg.SOLVER.MAX_ITER = 1200\n",
        "cfg.SOLVER.BATCH_SIZE_PER_IMAGE = 512\n",
        "cfg.SOLVER.IMS_PER_BATCH = 2\n",
        "cfg.SOLVER.BASE_LR = 0.00025\n",
        "# disable the evaluation\n",
        "cfg.DATASETS.TEST = ()"
      ]
    },
    {
      "cell_type": "markdown",
      "metadata": {
        "id": "P4rql8pNokE4"
      },
      "source": [
        "### Training"
      ]
    },
    {
      "cell_type": "code",
      "execution_count": null,
      "metadata": {
        "id": "7d3KxiHO_0gb"
      },
      "outputs": [],
      "source": [
        "# '''\n",
        "# # Create a DefaultTrainer using the above config and train the model\n",
        "# # TODO: approx 5 lines\n",
        "# '''\n",
        "\n",
        "# trainer = DefaultTrainer(cfg) \n",
        "# trainer.resume_or_load(resume=False)\n",
        "# trainer.train()"
      ]
    },
    {
      "cell_type": "markdown",
      "metadata": {
        "id": "fRVEiICco3SV"
      },
      "source": [
        "### Evaluation and Visualization"
      ]
    },
    {
      "cell_type": "code",
      "execution_count": null,
      "metadata": {
        "id": "VYCIXdMZvDYL"
      },
      "outputs": [],
      "source": [
        "'''\n",
        "# After training the model, you need to update cfg.MODEL.WEIGHTS\n",
        "# Define a DefaultPredictor\n",
        "'''\n",
        "\n",
        "cfg.MODEL.WEIGHTS = OUTPUT_DIR + \"/model_final.pth\"\n",
        "cfg.MODEL.ROI_HEADS.SCORE_THRESH_TEST = 0.6\n",
        "\n",
        "obj_detect_model = DefaultPredictor(cfg)"
      ]
    },
    {
      "cell_type": "code",
      "execution_count": null,
      "metadata": {
        "id": "_hRCf86KGi5v"
      },
      "outputs": [],
      "source": [
        "# '''\n",
        "# # Visualize the output for 3 random test samples\n",
        "# # TODO: approx 10 lines\n",
        "# '''\n",
        "\n",
        "# dataset_dicts = get_detection_data(\"val\")\n",
        "# for idx, d in enumerate(random.sample(dataset_dicts, 3)):\n",
        "#   img = cv2.imread(d[\"file_name\"])\n",
        "#   output = obj_detect_model(img)\n",
        "#   visualizer = Visualizer(img[:, :, ::-1], metadata=MetadataCatalog.get(\"data_detection_train\"), scale=0.5)\n",
        "#   out = visualizer.draw_instance_predictions(output['instances'].to(\"cpu\"))\n",
        "#   cv2.imwrite('{}/Visualize_part1_{}.png'.format(IMAGE_DIR, idx), out.get_image()[:, :, ::-1])"
      ]
    },
    {
      "cell_type": "code",
      "execution_count": null,
      "metadata": {
        "id": "D0wRdlcKo6BD"
      },
      "outputs": [],
      "source": [
        "# '''\n",
        "# # Use COCOEvaluator and build_detection_train_loader\n",
        "# # You can save the output predictions using inference_on_dataset\n",
        "# # TODO: approx 5 lines\n",
        "# '''\n",
        "\n",
        "# evaluator = COCOEvaluator(\"data_detection_val\", cfg, False, output_dir=COCO_EVALUATOR_OUTPUT, allow_cached_coco=False)\n",
        "\n",
        "# val_loader = build_detection_test_loader(cfg, \"data_detection_val\")\n",
        "\n",
        "# # clean file to avoid Error \"Results do not correspond to current coco set\"\n",
        "# os.system(\"rm -f {}/*\".format(COCO_EVALUATOR_OUTPUT))\n",
        "\n",
        "# inference_on_dataset(obj_detect_model.model, val_loader, evaluator)\n"
      ]
    },
    {
      "cell_type": "markdown",
      "metadata": {
        "id": "EwYvbwcjpKBk"
      },
      "source": [
        "### Improvements\n",
        "\n",
        "For this part, you can bring any improvement which you have by adding new input parameters to the previous functions or defining new functions and variables."
      ]
    },
    {
      "cell_type": "code",
      "execution_count": null,
      "metadata": {
        "id": "xdR6KbCZpOlk"
      },
      "outputs": [],
      "source": [
        "'''\n",
        "# Bring any changes and updates regarding the improvement in here\n",
        "'''\n"
      ]
    },
    {
      "cell_type": "markdown",
      "metadata": {
        "id": "98_M4TooqSs2"
      },
      "source": [
        "## Part 2: Semantic Segmentation"
      ]
    },
    {
      "cell_type": "markdown",
      "metadata": {
        "id": "ByAEsMtIPLrO"
      },
      "source": [
        "### Data Loader"
      ]
    },
    {
      "cell_type": "code",
      "execution_count": null,
      "metadata": {
        "id": "peQ95zLuIpkk"
      },
      "outputs": [],
      "source": [
        "IMAGE_SIZE = 128\n",
        "\n",
        "'''\n",
        "# Write a function that returns the cropped image and corresponding mask regarding the target bounding box\n",
        "# idx is the index of the target bbox in the data\n",
        "# high-resolution image could be passed or could be load from data['file_name']\n",
        "# You can use the mask attribute of detectron2.utils.visualizer.GenericMask\n",
        "#     to convert the segmentation annotations to binary masks\n",
        "# TODO: approx 10 lines\n",
        "'''\n",
        "from detectron2.utils.visualizer import GenericMask\n",
        "\n",
        "def get_instance_sample(data, idx, img=None):\n",
        "  img = cv2.imread(data['file_name'])\n",
        "  height = data['height']\n",
        "  width = data['width']\n",
        "  bbox = data['annotations'][idx]['bbox']\n",
        "  x1 = int(bbox[0])\n",
        "  x2 = int(bbox[0] + bbox[2])\n",
        "  y1 = int(bbox[1])\n",
        "  y2 = int(bbox[1] + bbox[3])\n",
        "  \n",
        "  crop_img = img[y1:y2, x1:x2]\n",
        "  \n",
        "  mask = GenericMask(data['annotations'][idx]['segmentation'], height, width).mask\n",
        "  crop_mask = mask[y1:y2, x1:x2]\n",
        "  \n",
        "  obj_img = cv2.resize(crop_img, (IMAGE_SIZE, IMAGE_SIZE))\n",
        "  obj_mask = cv2.resize(crop_mask, (IMAGE_SIZE, IMAGE_SIZE))\n",
        "  \n",
        "  return obj_img, obj_mask"
      ]
    },
    {
      "cell_type": "code",
      "execution_count": null,
      "metadata": {},
      "outputs": [],
      "source": [
        "# # test get_instance_sample()\n",
        "\n",
        "# import matplotlib.pyplot as plt\n",
        "\n",
        "# test_tar = get_detection_data(\"train\")[0]\n",
        "\n",
        "# obj_img, obj_mask = get_instance_sample(test_tar, 4)\n",
        "\n",
        "# plt.imshow(obj_img)\n",
        "# plt.savefig(\"obj_img.png\")\n",
        "\n",
        "# plt.cla()\n",
        "# plt.imshow(obj_mask)\n",
        "# plt.savefig(\"obj_mask.png\")\n",
        "\n",
        "# print(test_tar['file_name'])"
      ]
    },
    {
      "cell_type": "code",
      "execution_count": null,
      "metadata": {
        "id": "sxrc9X_pjzj-"
      },
      "outputs": [],
      "source": [
        "'''\n",
        "# We have provided a template data loader for your segmentation training\n",
        "# You need to complete the __getitem__() function before running the code\n",
        "# You may also need to add data augmentation or normalization in here\n",
        "'''\n",
        "\n",
        "class PlaneDataset(Dataset):\n",
        "  def __init__(self, set_name, data_list):\n",
        "      self.transforms = transforms.Compose([\n",
        "          transforms.ToTensor(), # Converting the image to tensor and change the image format (Channels-Last => Channels-First)\n",
        "      ])\n",
        "      self.set_name = set_name\n",
        "      self.data = data_list\n",
        "      self.instance_map = []\n",
        "      for i, d in enumerate(self.data):\n",
        "        for j in range(len(d['annotations'])):\n",
        "          self.instance_map.append([i,j])\n",
        "\n",
        "  '''\n",
        "  # you can change the value of length to a small number like 10 for debugging of your training procedure and overfeating\n",
        "  # make sure to use the correct length for the final training\n",
        "  '''\n",
        "  def __len__(self):\n",
        "      return len(self.instance_map)\n",
        "\n",
        "  def numpy_to_tensor(self, img, mask):\n",
        "    if self.transforms is not None:\n",
        "        img = self.transforms(img)\n",
        "    img = torch.tensor(img, dtype=torch.float)\n",
        "    mask = torch.tensor(mask, dtype=torch.float)\n",
        "    return img, mask\n",
        "\n",
        "  '''\n",
        "  # Complete this part by using get_instance_sample function\n",
        "  # make sure to resize the img and mask to a fixed size (for example 128*128)\n",
        "  # you can use \"interpolate\" function of pytorch or \"numpy.resize\"\n",
        "  # TODO: 5 lines\n",
        "  '''\n",
        "  def __getitem__(self, idx):\n",
        "    if torch.is_tensor(idx):\n",
        "        idx = idx.tolist()\n",
        "        \n",
        "    # idx[0, 1]: idx[0] is  the index for image, idx[1] is \n",
        "    # the index for annotations\n",
        "    idx = self.instance_map[idx]\n",
        "    data = self.data[idx[0]]\n",
        "\n",
        "    img, mask = get_instance_sample(data, idx[1])\n",
        "    \n",
        "    return self.numpy_to_tensor(img, mask)\n",
        "\n",
        "def get_plane_dataset(set_name='train', batch_size=2):\n",
        "    my_data_list = DatasetCatalog.get(\"data_detection_{}\".format(set_name))\n",
        "    dataset = PlaneDataset(set_name, my_data_list)\n",
        "    loader = DataLoader(dataset, batch_size=batch_size, num_workers=4,\n",
        "                                              pin_memory=True, shuffle=True)\n",
        "    return loader, dataset"
      ]
    },
    {
      "cell_type": "markdown",
      "metadata": {
        "id": "m6eH3NKaQQfc"
      },
      "source": [
        "### Network"
      ]
    },
    {
      "cell_type": "code",
      "execution_count": null,
      "metadata": {
        "id": "PeqR3s3dSBPN"
      },
      "outputs": [],
      "source": [
        "'''\n",
        "# convolution module as a template layer consists of conv2d layer, batch normalization, and relu activation\n",
        "'''\n",
        "class conv(nn.Module):\n",
        "    def __init__(self, in_ch, out_ch, activation=True):\n",
        "        super(conv, self).__init__()\n",
        "        if(activation):\n",
        "          self.layer = nn.Sequential(\n",
        "             nn.Conv2d(in_ch, out_ch, 3, padding=1),\n",
        "             nn.BatchNorm2d(out_ch),\n",
        "             nn.ReLU(inplace=True)\n",
        "          )\n",
        "        else:\n",
        "          self.layer = nn.Sequential(\n",
        "             nn.Conv2d(in_ch, out_ch, 3, padding=1)\n",
        "             )\n",
        "\n",
        "    def forward(self, x):\n",
        "        x = self.layer(x)\n",
        "        return x\n",
        "\n",
        "'''\n",
        "# downsampling module equal to a conv module followed by a max-pool layer\n",
        "'''\n",
        "class down(nn.Module):\n",
        "    def __init__(self, in_ch, out_ch):\n",
        "        super(down, self).__init__()\n",
        "        self.layer = nn.Sequential(\n",
        "            conv(in_ch, out_ch),\n",
        "            nn.MaxPool2d(2)\n",
        "            )\n",
        "\n",
        "    def forward(self, x):\n",
        "        x = self.layer(x)\n",
        "        return x\n",
        "\n",
        "'''\n",
        "# upsampling module equal to a upsample function followed by a conv module\n",
        "'''\n",
        "class up(nn.Module):\n",
        "    def __init__(self, in_ch, out_ch, bilinear=False):\n",
        "        super(up, self).__init__()\n",
        "        if bilinear:\n",
        "            self.up = nn.Upsample(scale_factor=2, mode='bilinear', align_corners=True)\n",
        "        else:\n",
        "            self.up = nn.ConvTranspose2d(in_ch, in_ch, 2, stride=2)\n",
        "\n",
        "        self.conv = conv(in_ch, out_ch)\n",
        "\n",
        "    def forward(self, x):\n",
        "        y = self.up(x)\n",
        "        y = self.conv(y)\n",
        "        return y\n",
        "\n",
        "'''\n",
        "# the main model which you need to complete by using above modules.\n",
        "# you can also modify the above modules in order to improve your results.\n",
        "'''\n",
        "class MyModel(nn.Module):\n",
        "    def __init__(self):\n",
        "        super(MyModel, self).__init__()\n",
        "\n",
        "        # Encoder\n",
        "\n",
        "        self.input_conv = conv(3, 4)\n",
        "        self.down = down(4, 8)\n",
        "\n",
        "        # Decoder\n",
        "\n",
        "        self.up = up(8, 4)\n",
        "        self.output_conv = conv(4, 1, False) # ReLu activation is removed to keep the logits for the loss function\n",
        "\n",
        "\n",
        "    def forward(self, input):\n",
        "      y = self.input_conv(input)\n",
        "      y = self.down(y)\n",
        "      y = self.up(y)\n",
        "      output = self.output_conv(y)\n",
        "      return output"
      ]
    },
    {
      "cell_type": "markdown",
      "metadata": {
        "id": "rQj86vD9QT_Z"
      },
      "source": [
        "### Training"
      ]
    },
    {
      "cell_type": "code",
      "execution_count": null,
      "metadata": {
        "id": "MaZuO4SKSBuF"
      },
      "outputs": [],
      "source": [
        "# '''\n",
        "# # The following is a basic training procedure to train the network\n",
        "# # You need to update the code to get the best performance\n",
        "# # TODO: approx ? lines\n",
        "# '''\n",
        "\n",
        "# # Set the hyperparameters\n",
        "# num_epochs = 5\n",
        "# batch_size = 4\n",
        "# learning_rate = 0.01\n",
        "# weight_decay = 1e-5\n",
        "\n",
        "# model = MyModel() # initialize the model\n",
        "# model = model.cuda() # move the model to GPU\n",
        "# loader, _ = get_plane_dataset('train', batch_size) # initialize data_loader\n",
        "# crit = nn.BCEWithLogitsLoss() # Define the loss function\n",
        "# optim = torch.optim.SGD(model.parameters(), lr=learning_rate, weight_decay=weight_decay) # Initialize the optimizer as SGD\n",
        "\n",
        "# # start the training procedure\n",
        "# for epoch in range(num_epochs):\n",
        "#   total_loss = 0\n",
        "#   for (img, mask) in tqdm(loader):\n",
        "#     img = torch.tensor(img, device=torch.device('cuda'), requires_grad = True)\n",
        "#     mask = torch.tensor(mask, device=torch.device('cuda'), requires_grad = True)\n",
        "    \n",
        "#     # mannally correct the shape\n",
        "#     mask = torch.squeeze(mask)\n",
        "    \n",
        "#     pred = model(img)\n",
        "#     loss = crit(pred, mask)\n",
        "#     optim.zero_grad()\n",
        "#     loss.backward()\n",
        "#     optim.step()\n",
        "#     total_loss += loss.cpu().data\n",
        "#   print(\"Epoch: {}, Loss: {}\".format(epoch, total_loss/len(loader)))\n",
        "#   torch.save(model.state_dict(), '{}/output/{}_segmentation_model.pth'.format(BASE_DIR, epoch))\n",
        "\n",
        "# '''\n",
        "# # Saving the final model\n",
        "# '''\n",
        "# torch.save(model.state_dict(), '{}/output/final_segmentation_model.pth'.format(BASE_DIR))\n"
      ]
    },
    {
      "cell_type": "markdown",
      "metadata": {
        "id": "rQj86vD9QT_Z"
      },
      "source": [
        "### Evaluation and Visualization"
      ]
    },
    {
      "cell_type": "code",
      "execution_count": null,
      "metadata": {
        "id": "TDeViryUSCL2"
      },
      "outputs": [],
      "source": [
        "'''\n",
        "# Before starting the evaluation, you need to set the model mode to eval\n",
        "# You may load the trained model again, in case if you want to continue your code later\n",
        "# TODO: approx 15 lines\n",
        "'''\n",
        "\n",
        "# load model and data\n",
        "batch_size = 8\n",
        "seg_model = MyModel().cuda()\n",
        "seg_model.load_state_dict(torch.load('{}/output/final_segmentation_model.pth'.format(BASE_DIR)))\n",
        "seg_model = seg_model.eval() # chaning the model to evaluation mode will fix the bachnorm layers\n",
        "loader, dataset = get_plane_dataset('val', batch_size)"
      ]
    },
    {
      "cell_type": "code",
      "execution_count": null,
      "metadata": {},
      "outputs": [],
      "source": [
        "# # evaluation\n",
        "\n",
        "# total_iou = 0\n",
        "# images = 0\n",
        "# for (img, mask) in tqdm(loader):\n",
        "#   with torch.no_grad():\n",
        "#     img = img.cuda()\n",
        "#     mask = mask.cuda()\n",
        "#     mask = torch.unsqueeze(mask,1)\n",
        "#     pred = seg_model(img)\n",
        "    \n",
        "#     sigmoid = nn.Sigmoid()\n",
        "#     sig_pred = sigmoid(pred)\n",
        "#     sig_pred[sig_pred >= 0.5] = 1\n",
        "#     sig_pred[sig_pred < 0.5] = 0\n",
        "\n",
        "#     intersection = torch.sum(torch.logical_and(mask, sig_pred))\n",
        "#     union = torch.sum(torch.logical_or(mask, sig_pred))\n",
        "    \n",
        "#     if union != 0:\n",
        "#       total_iou += intersection / union\n",
        "#     '''\n",
        "#     ## Complete the code by obtaining the IoU for each img and print the final Mean IoU\n",
        "#     '''\n",
        "#   images += 1\n",
        "\n",
        "\n",
        "# print(\"\\n #images: {}, Mean IoU: {}\".format(images, total_iou / images))"
      ]
    },
    {
      "cell_type": "code",
      "execution_count": null,
      "metadata": {
        "id": "0dyez1fyQYw7"
      },
      "outputs": [],
      "source": [
        "# '''\n",
        "# # Visualize 3 sample outputs\n",
        "# # TODO: approx 5 lines\n",
        "# '''\n",
        "\n",
        "# img_path = IMAGE_DIR + \"/manually_cropped/*\"\n",
        "# imgs = glob(img_path)\n",
        "\n",
        "# for idx, img_path in enumerate(imgs):\n",
        "#   img = cv2.imread(img_path)\n",
        "#   img = cv2.resize(img, (IMAGE_SIZE, IMAGE_SIZE))\n",
        "#   trans2tensor = transforms.ToTensor()\n",
        "#   img = trans2tensor(img)\n",
        "#   img = torch.tensor(img, dtype=torch.float)\n",
        "#   img = img.reshape((1, 3, IMAGE_SIZE, IMAGE_SIZE))\n",
        "\n",
        "#   with torch.no_grad():\n",
        "#     img = img.cuda()\n",
        "#     pred = seg_model(img)\n",
        "    \n",
        "#     sigmoid = nn.Sigmoid()\n",
        "#     sig_pred = sigmoid(pred)\n",
        "#     sig_pred[sig_pred >= 0.5] = 1\n",
        "#     sig_pred[sig_pred < 0.5] = 0\n",
        "    \n",
        "#     img = np.transpose(img.cpu(), (3, 2, 1, 0))\n",
        "#     img = np.reshape(img, (IMAGE_SIZE, IMAGE_SIZE, 3))\n",
        "    \n",
        "#     sig_pred = np.transpose(sig_pred.cpu(), (3, 2, 1, 0))\n",
        "#     sig_pred = np.reshape(sig_pred, (IMAGE_SIZE, IMAGE_SIZE, 1))\n",
        "  \n",
        "#     plt.cla()\n",
        "#     fig, ax = plt.subplots(1, 2)\n",
        "#     ax[0].imshow(img)\n",
        "#     ax[1].imshow(sig_pred, cmap='gray', vmin=0, vmax=1)\n",
        "    \n",
        "#     plt.savefig(IMAGE_DIR + \"/Visualize_part2_{}.png\".format(idx))"
      ]
    },
    {
      "cell_type": "markdown",
      "metadata": {
        "id": "navoiGdrqaZT"
      },
      "source": [
        "## Part 3: Instance Segmentation\n",
        "\n",
        "In this part, you need to obtain the instance segmentation results for the test data by using the trained segmentation model in the previous part and the detection model in Part 1."
      ]
    },
    {
      "cell_type": "markdown",
      "metadata": {
        "id": "vBwk33DGBowP"
      },
      "source": [
        "### Get Prediction"
      ]
    },
    {
      "cell_type": "code",
      "execution_count": null,
      "metadata": {
        "id": "navoiGdrqaZT"
      },
      "outputs": [],
      "source": [
        "'''\n",
        "# Define a new function to obtain the prediction mask by passing a sample data\n",
        "# For this part, you need to use all the previous parts (predictor, get_instance_sample, data preprocessings, etc)\n",
        "# It is better to keep everything (as well as the output of this funcion) on gpu as tensors to speed up the operations.\n",
        "# pred_mask is the instance segmentation result and should have different values for different planes.\n",
        "# TODO: approx 35 lines\n",
        "'''\n",
        "from detectron2.structures.boxes import pairwise_point_box_distance\n",
        "\n",
        "def remove_overlapped_bbox(instances, score_threshold=0.8):\n",
        "  removed_idx = []\n",
        "  num_of_ins = len(instances['instances'])\n",
        "  for i in range(num_of_ins):\n",
        "    if i in removed_idx:\n",
        "      continue\n",
        "    for j in range(i + 1, num_of_ins):\n",
        "      if j in removed_idx:\n",
        "        continue\n",
        "      \n",
        "      dis1 = pairwise_point_box_distance(instances['instances'][i].pred_boxes.get_centers(),\n",
        "                                         instances['instances'][j].pred_boxes)\n",
        "      dis2 = pairwise_point_box_distance(instances['instances'][j].pred_boxes.get_centers(),\n",
        "                                        instances['instances'][i].pred_boxes)\n",
        "      \n",
        "      # i is in j or j is in i\n",
        "      if torch.all(dis1 > 0).item() or torch.all(dis2 > 0).item():\n",
        "        if instances['instances'][i].scores.item() > instances['instances'][j].scores.item():\n",
        "          removed_idx.append(j)\n",
        "        else:\n",
        "          removed_idx.append(i)\n",
        "\n",
        "  # Create new instances with overlapped bbox removed\n",
        "  height, width = instances['instances'].image_size\n",
        "  \n",
        "  kept_idx = [x for x in range(len(instances['instances'])) if x not in removed_idx]\n",
        "  new_instances = detectron2.structures.Instances(image_size=(height, width))\n",
        "          \n",
        "  classes = instances['instances'].pred_classes[kept_idx]\n",
        "  scores = instances['instances'].scores[kept_idx]\n",
        "  boxes = instances['instances'].pred_boxes[kept_idx]\n",
        "  \n",
        "  new_instances.set('pred_classes', classes)\n",
        "  new_instances.set('scores', scores)\n",
        "  new_instances.set('pred_boxes', boxes)\n",
        "  \n",
        "  # Remove low score bbox\n",
        "  new_instances = new_instances[new_instances.scores >= score_threshold]        \n",
        "  \n",
        "  return {\"instances\": new_instances}\n",
        "\n",
        "def get_prediction_mask(data):\n",
        "  img = cv2.imread(data['file_name'])\n",
        "  height, width = img.shape[:2]\n",
        "  \n",
        "  obj_detect_result = obj_detect_model(img)\n",
        "  \n",
        "  obj_detect_result = remove_overlapped_bbox(obj_detect_result)\n",
        "  \n",
        "  pred_mask = np.zeros((height,width), np.uint8)\n",
        "  \n",
        "  num_of_bbox = len(obj_detect_result['instances'])\n",
        "  for idx in range(num_of_bbox):\n",
        "    # Obtain the bbox from Instances\n",
        "    x0, y0, x1, y1 = [int(x) for x in obj_detect_result['instances'][idx].pred_boxes.tensor.cpu().numpy()[0]]\n",
        "    crop_img = img[y0:y1, x0:x1]\n",
        "    ori_h, ori_w = crop_img.shape[:2]\n",
        "    obj_img = cv2.resize(crop_img, (IMAGE_SIZE, IMAGE_SIZE))\n",
        "    \n",
        "    # convert obj_img to suitable format\n",
        "    trans2tensor = transforms.ToTensor()\n",
        "    obj_img = trans2tensor(obj_img)\n",
        "    obj_img = obj_img.reshape((1, 3, IMAGE_SIZE, IMAGE_SIZE))\n",
        "\n",
        "    with torch.no_grad():\n",
        "      obj_img = obj_img.cuda()\n",
        "      pred = seg_model(obj_img)\n",
        "      \n",
        "      sigmoid = nn.Sigmoid()\n",
        "      sig_pred = sigmoid(pred)\n",
        "      \n",
        "      sig_pred[sig_pred >= 0.5] = idx + 1\n",
        "      sig_pred[sig_pred < 0.5] = 0\n",
        "            \n",
        "      sig_pred = np.transpose(sig_pred.cpu(), (2, 3, 0, 1))\n",
        "      sig_pred = np.reshape(sig_pred, (IMAGE_SIZE, IMAGE_SIZE))\n",
        "    \n",
        "    # Resize the colored_pred to original size, and update the pred_mask\n",
        "    sig_pred = cv2.resize(sig_pred.numpy(), (ori_w, ori_h))\n",
        "    pred_mask[y0:y1, x0:x1] = sig_pred\n",
        "  \n",
        "  gt_mask = None\n",
        "  img = torch.tensor(img, device='cuda')\n",
        "  # gt_mask = torch.tensor(gt_mask)\n",
        "  pred_mask = torch.tensor(pred_mask, device='cuda')\n",
        "  \n",
        "  return img, gt_mask, pred_mask # gt_mask could be all zero when the ground truth is not given.\n"
      ]
    },
    {
      "cell_type": "markdown",
      "metadata": {
        "id": "vBwk33DGBowP"
      },
      "source": [
        "### Visualization and Submission"
      ]
    },
    {
      "cell_type": "code",
      "execution_count": null,
      "metadata": {
        "id": "H7T2YX8MBiGO"
      },
      "outputs": [],
      "source": [
        "'''\n",
        "# Visualise the output prediction as well as the GT Mask and Input image for a sample input\n",
        "# TODO: approx 10 lines\n",
        "'''\n",
        "# The getDistinctColors function is from https://www.quora.com/How-do-I-generate-n-visually-distinct-RGB-colours-in-Python\n",
        "import colorsys \n",
        " \n",
        "def HSVToRGB(h, s, v): \n",
        " (r, g, b) = colorsys.hsv_to_rgb(h, s, v) \n",
        " return [int(255*r), int(255*g), int(255*b)]\n",
        " \n",
        "def getDistinctColors(n): \n",
        " huePartition = 1.0 / (n + 1) \n",
        " return [HSVToRGB(huePartition * value, 1.0, 1.0) for value in range(0, n)]\n",
        "\n",
        "visual_id = 17\n",
        "\n",
        "# Test get_prediction_mask\n",
        "print(get_detection_data(\"test\")[visual_id]['file_name'])\n",
        "img, gt_mask, pred_mask = get_prediction_mask(get_detection_data(\"test\")[visual_id])\n",
        "\n",
        "print(\"Num of mask: {}\".format(torch.unique(pred_mask)))\n",
        "\n",
        "# convert the gray scale mask to a colored mask\n",
        "colored_pred = torch.zeros([pred_mask.shape[0], pred_mask.shape[1], 3])\n",
        "num_of_bbox = torch.max(pred_mask).cpu().item()\n",
        "distinct_colors = getDistinctColors(num_of_bbox)\n",
        "# print(distinct_colors)\n",
        "for rgb in range(2):\n",
        "  for idx in range(1, num_of_bbox + 1):\n",
        "    colored_pred[:, :, rgb][pred_mask == idx] = distinct_colors[idx - 1][rgb]\n",
        "\n",
        "img = cv2.resize(img.cpu().numpy(), (0, 0), fx=0.5, fy=0.5)\n",
        "pred_mask = cv2.resize(colored_pred.cpu().numpy(), (0, 0), fx=0.5, fy=0.5)\n",
        "\n",
        "pred_mask = pred_mask.astype('int')\n",
        "\n",
        "plt.cla()\n",
        "fig, ax = plt.subplots(1, 2)\n",
        "ax[0].imshow(img)\n",
        "ax[1].imshow(pred_mask)\n",
        "\n",
        "plt.savefig(\"temp.png\")\n"
      ]
    },
    {
      "cell_type": "code",
      "execution_count": null,
      "metadata": {
        "id": "fc7TSK6EBi9u"
      },
      "outputs": [],
      "source": [
        "'''\n",
        "# ref: https://www.kaggle.com/rakhlin/fast-run-length-encoding-python\n",
        "# https://www.kaggle.com/c/airbus-ship-detection/overview/evaluation\n",
        "'''\n",
        "def rle_encoding(x):\n",
        "    '''\n",
        "    x: pytorch tensor on gpu, 1 - mask, 0 - background\n",
        "    Returns run length as list\n",
        "    '''\n",
        "    dots = torch.where(torch.flatten(x.long())==1)[0]\n",
        "    if(len(dots)==0):\n",
        "      return []\n",
        "    inds = torch.where(dots[1:]!=dots[:-1]+1)[0]+1\n",
        "    inds = torch.cat((torch.tensor([0], device=torch.device('cuda'), dtype=torch.long), inds))\n",
        "    tmpdots = dots[inds]\n",
        "    inds = torch.cat((inds, torch.tensor([len(dots)], device=torch.device('cuda'))))\n",
        "    inds = inds[1:] - inds[:-1]\n",
        "    runs = torch.cat((tmpdots, inds)).reshape((2,-1))\n",
        "    runs = torch.flatten(torch.transpose(runs, 0, 1)).cpu().data.numpy()\n",
        "    return ' '.join([str(i) for i in runs])"
      ]
    },
    {
      "cell_type": "code",
      "execution_count": null,
      "metadata": {
        "id": "zv0rab2LJev-"
      },
      "outputs": [],
      "source": [
        "'''\n",
        "# You need to upload the csv file on kaggle\n",
        "# The speed of your code in the previous parts highly affects the running time of this part\n",
        "'''\n",
        "\n",
        "preddic = {\"ImageId\": [], \"EncodedPixels\": []}\n",
        "\n",
        "'''\n",
        "# Writing the predictions of the training set\n",
        "'''\n",
        "my_data_list = DatasetCatalog.get(\"data_detection_{}\".format('all_train'))\n",
        "for i in tqdm(range(len(my_data_list)), position=0, leave=True):\n",
        "  sample = my_data_list[i]\n",
        "  sample['image_id'] = sample['file_name'].split(\"/\")[-1][:-4]\n",
        "  img, true_mask, pred_mask = get_prediction_mask(sample)\n",
        "  inds = torch.unique(pred_mask)\n",
        "  if(len(inds)==1):\n",
        "    preddic['ImageId'].append(sample['image_id'])\n",
        "    preddic['EncodedPixels'].append([])\n",
        "  else:\n",
        "    for index in inds:\n",
        "      if(index == 0):\n",
        "        continue\n",
        "      tmp_mask = (pred_mask==index)\n",
        "      encPix = rle_encoding(tmp_mask)\n",
        "      preddic['ImageId'].append(sample['image_id'])\n",
        "      preddic['EncodedPixels'].append(encPix)\n",
        "\n",
        "'''\n",
        "# Writing the predictions of the test set\n",
        "'''\n",
        "\n",
        "my_data_list = DatasetCatalog.get(\"data_detection_{}\".format('test'))\n",
        "for i in tqdm(range(len(my_data_list)), position=0, leave=True):\n",
        "  sample = my_data_list[i]\n",
        "  sample['image_id'] = sample['file_name'].split(\"/\")[-1][:-4]\n",
        "  img, true_mask, pred_mask = get_prediction_mask(sample)\n",
        "  inds = torch.unique(pred_mask)\n",
        "  if(len(inds)==1):\n",
        "    preddic['ImageId'].append(sample['image_id'])\n",
        "    preddic['EncodedPixels'].append([])\n",
        "  else:\n",
        "    for j, index in enumerate(inds):\n",
        "      if(index == 0):\n",
        "        continue\n",
        "      tmp_mask = (pred_mask==index).double()\n",
        "      encPix = rle_encoding(tmp_mask)\n",
        "      preddic['ImageId'].append(sample['image_id'])\n",
        "      preddic['EncodedPixels'].append(encPix)\n",
        "\n",
        "pred_file = open(\"{}/pred.csv\".format(BASE_DIR), 'w')\n",
        "pd.DataFrame(preddic).to_csv(pred_file, index=False)\n",
        "pred_file.close()\n"
      ]
    },
    {
      "cell_type": "markdown",
      "metadata": {
        "id": "p7nN4SduqrpI"
      },
      "source": [
        "## Part 4: Mask R-CNN\n",
        "\n",
        "For this part you need to follow a same procedure to part 2 with the configs of Mask R-CNN, other parts are generally the same as part 2."
      ]
    },
    {
      "cell_type": "markdown",
      "metadata": {
        "id": "axWf7drKNXYd"
      },
      "source": [
        "### Data Loader"
      ]
    },
    {
      "cell_type": "code",
      "execution_count": null,
      "metadata": {
        "id": "p7nN4SduqrpI"
      },
      "outputs": [],
      "source": []
    },
    {
      "cell_type": "markdown",
      "metadata": {
        "id": "axWf7drKNXYd"
      },
      "source": [
        "### Network"
      ]
    },
    {
      "cell_type": "code",
      "execution_count": null,
      "metadata": {
        "id": "KG1pnKLMOcjS"
      },
      "outputs": [],
      "source": []
    },
    {
      "cell_type": "markdown",
      "metadata": {
        "id": "lG5slAhQNjE7"
      },
      "source": [
        "### Training"
      ]
    },
    {
      "cell_type": "code",
      "execution_count": null,
      "metadata": {
        "id": "tc4K0Nz5OeKk"
      },
      "outputs": [],
      "source": []
    },
    {
      "cell_type": "markdown",
      "metadata": {
        "id": "t7ifeV1sNvtt"
      },
      "source": [
        "### Evaluation and Visualization"
      ]
    },
    {
      "cell_type": "code",
      "execution_count": null,
      "metadata": {
        "id": "KcGwV5-9Oetp"
      },
      "outputs": [],
      "source": []
    },
    {
      "cell_type": "code",
      "execution_count": null,
      "metadata": {
        "id": "298QruFnNxyn"
      },
      "outputs": [],
      "source": []
    }
  ],
  "metadata": {
    "accelerator": "GPU",
    "colab": {
      "provenance": []
    },
    "kernelspec": {
      "display_name": "torch_jupyter",
      "language": "python",
      "name": "torch_jupyter"
    },
    "language_info": {
      "codemirror_mode": {
        "name": "ipython",
        "version": 3
      },
      "file_extension": ".py",
      "mimetype": "text/x-python",
      "name": "python",
      "nbconvert_exporter": "python",
      "pygments_lexer": "ipython3",
      "version": "3.8.10"
    }
  },
  "nbformat": 4,
  "nbformat_minor": 0
}
